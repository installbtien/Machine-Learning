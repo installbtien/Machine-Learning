{
  "nbformat": 4,
  "nbformat_minor": 0,
  "metadata": {
    "colab": {
      "name": "hand_writing_digit_recognition.ipynb",
      "provenance": [],
      "authorship_tag": "ABX9TyNNhlfCcZNbdOxNE4Xefr6j",
      "include_colab_link": true
    },
    "kernelspec": {
      "name": "python3",
      "display_name": "Python 3"
    }
  },
  "cells": [
    {
      "cell_type": "markdown",
      "metadata": {
        "id": "view-in-github",
        "colab_type": "text"
      },
      "source": [
        "<a href=\"https://colab.research.google.com/github/installbtien/Machine-Learning/blob/main/Classification/Hand-writing-digit-recognition/hand_writing_digit_recognition.ipynb\" target=\"_parent\"><img src=\"https://colab.research.google.com/assets/colab-badge.svg\" alt=\"Open In Colab\"/></a>"
      ]
    },
    {
      "cell_type": "code",
      "metadata": {
        "id": "MxsSRWf4uS5j"
      },
      "source": [
        "import numpy as np\r\n",
        "from tensorflow import keras\r\n",
        "from keras.models import Sequential\r\n",
        "from keras.layers.core import Dense, Dropout, Activation\r\n",
        "from keras.layers import Conv2D, MaxPooling2D, Flatten\r\n",
        "from keras.optimizers import SGD, Adam\r\n",
        "from keras.utils import np_utils\r\n",
        "from keras.datasets import mnist"
      ],
      "execution_count": 7,
      "outputs": []
    },
    {
      "cell_type": "code",
      "metadata": {
        "id": "Y6UxX-30ufAS"
      },
      "source": [
        "def load_data():\r\n",
        "    (x_train, y_train), (x_test, y_test) = mnist.load_data()\r\n",
        "    number = 10000\r\n",
        "    x_train = x_train[0:number]\r\n",
        "    y_train = y_train[0:number]\r\n",
        "    x_train = x_train.reshape(number, 28*28)\r\n",
        "    x_test = x_test.reshape(x_test.shape[0], 28*28)\r\n",
        "    x_train = x_train.astype('float32')\r\n",
        "    x_test = x_test.astype('float32')\r\n",
        "    \r\n",
        "    #convert class vectors to binary class matrices\r\n",
        "    y_train = np_utils.to_categorical(y_train, 10)\r\n",
        "    y_test = np_utils.to_categorical(y_test, 10)\r\n",
        "        \r\n",
        "    x_train = x_train / 255\r\n",
        "    x_test = x_test / 255\r\n",
        "    #add random noises to x_test\r\n",
        "    #x_test = np.random.normal(x_test)\r\n",
        "    return (x_train, y_train), (x_test, y_test)\r\n",
        "        \r\n",
        "(x_train, y_train), (x_test, y_test) = load_data()"
      ],
      "execution_count": 8,
      "outputs": []
    },
    {
      "cell_type": "code",
      "metadata": {
        "id": "ptwN8mLXujOR"
      },
      "source": [
        "model = Sequential()\r\n",
        "model.add(Dense(input_dim=28*28, units=500, activation='relu'))\r\n",
        "\r\n",
        "model.add(Dense(units=500, activation='relu'))\r\n",
        "model.add(Dense(units=10, activation='softmax'))"
      ],
      "execution_count": 12,
      "outputs": []
    },
    {
      "cell_type": "code",
      "metadata": {
        "colab": {
          "base_uri": "https://localhost:8080/"
        },
        "id": "kKBa1bB6uqwg",
        "outputId": "537f409b-d7e9-4911-b764-3f6d5f06c498"
      },
      "source": [
        "model.compile(loss='categorical_crossentropy',optimizer='adam',metrics=['accuracy'])\r\n",
        "model.fit(x_train, y_train, batch_size=100, epochs=20)\r\n",
        "\r\n",
        "score = model.evaluate(x_test, y_test)\r\n",
        "print('Accuracy of Testing Set: ', score[1])"
      ],
      "execution_count": 13,
      "outputs": [
        {
          "output_type": "stream",
          "text": [
            "Epoch 1/20\n",
            "100/100 [==============================] - 1s 9ms/step - loss: 0.8261 - accuracy: 0.7452\n",
            "Epoch 2/20\n",
            "100/100 [==============================] - 1s 9ms/step - loss: 0.1814 - accuracy: 0.9459\n",
            "Epoch 3/20\n",
            "100/100 [==============================] - 1s 9ms/step - loss: 0.1042 - accuracy: 0.9703\n",
            "Epoch 4/20\n",
            "100/100 [==============================] - 1s 9ms/step - loss: 0.0541 - accuracy: 0.9839\n",
            "Epoch 5/20\n",
            "100/100 [==============================] - 1s 9ms/step - loss: 0.0376 - accuracy: 0.9913\n",
            "Epoch 6/20\n",
            "100/100 [==============================] - 1s 9ms/step - loss: 0.0250 - accuracy: 0.9932\n",
            "Epoch 7/20\n",
            "100/100 [==============================] - 1s 9ms/step - loss: 0.0169 - accuracy: 0.9961\n",
            "Epoch 8/20\n",
            "100/100 [==============================] - 1s 9ms/step - loss: 0.0121 - accuracy: 0.9969\n",
            "Epoch 9/20\n",
            "100/100 [==============================] - 1s 9ms/step - loss: 0.0046 - accuracy: 0.9995\n",
            "Epoch 10/20\n",
            "100/100 [==============================] - 1s 9ms/step - loss: 0.0040 - accuracy: 0.9987\n",
            "Epoch 11/20\n",
            "100/100 [==============================] - 1s 9ms/step - loss: 0.0047 - accuracy: 0.9990\n",
            "Epoch 12/20\n",
            "100/100 [==============================] - 1s 9ms/step - loss: 0.0022 - accuracy: 0.9999\n",
            "Epoch 13/20\n",
            "100/100 [==============================] - 1s 10ms/step - loss: 7.6540e-04 - accuracy: 1.0000\n",
            "Epoch 14/20\n",
            "100/100 [==============================] - 1s 9ms/step - loss: 4.0636e-04 - accuracy: 1.0000\n",
            "Epoch 15/20\n",
            "100/100 [==============================] - 1s 9ms/step - loss: 3.2010e-04 - accuracy: 1.0000\n",
            "Epoch 16/20\n",
            "100/100 [==============================] - 1s 9ms/step - loss: 2.6084e-04 - accuracy: 1.0000\n",
            "Epoch 17/20\n",
            "100/100 [==============================] - 1s 9ms/step - loss: 2.3748e-04 - accuracy: 1.0000\n",
            "Epoch 18/20\n",
            "100/100 [==============================] - 1s 9ms/step - loss: 2.1089e-04 - accuracy: 1.0000\n",
            "Epoch 19/20\n",
            "100/100 [==============================] - 1s 9ms/step - loss: 1.8255e-04 - accuracy: 1.0000\n",
            "Epoch 20/20\n",
            "100/100 [==============================] - 1s 9ms/step - loss: 1.6703e-04 - accuracy: 1.0000\n",
            "313/313 [==============================] - 1s 3ms/step - loss: 0.1639 - accuracy: 0.9644\n",
            "Accuracy of Testing Set:  0.9643999934196472\n"
          ],
          "name": "stdout"
        }
      ]
    }
  ]
}