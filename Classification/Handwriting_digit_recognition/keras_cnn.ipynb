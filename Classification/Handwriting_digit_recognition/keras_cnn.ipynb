{
  "nbformat": 4,
  "nbformat_minor": 0,
  "metadata": {
    "colab": {
      "name": "keras_cnn.ipynb",
      "provenance": [],
      "authorship_tag": "ABX9TyOBRQVBPEaYSXMB7JcUHKdB",
      "include_colab_link": true
    },
    "kernelspec": {
      "name": "python3",
      "display_name": "Python 3"
    }
  },
  "cells": [
    {
      "cell_type": "markdown",
      "metadata": {
        "id": "view-in-github",
        "colab_type": "text"
      },
      "source": [
        "<a href=\"https://colab.research.google.com/github/installbtien/Machine-Learning/blob/main/Classification/Handwriting_digit_recognition/keras_cnn.ipynb\" target=\"_parent\"><img src=\"https://colab.research.google.com/assets/colab-badge.svg\" alt=\"Open In Colab\"/></a>"
      ]
    },
    {
      "cell_type": "code",
      "metadata": {
        "id": "Ct_tP-NsMGMK"
      },
      "source": [
        "import numpy as np\r\n",
        "from tensorflow import keras\r\n",
        "from keras.models import Sequential\r\n",
        "from keras.layers.core import Dense, Dropout, Activation\r\n",
        "from keras.layers import Conv2D, MaxPooling2D, Flatten\r\n",
        "from keras.optimizers import SGD, Adam\r\n",
        "from keras.utils import np_utils\r\n",
        "from keras.datasets import mnist"
      ],
      "execution_count": 1,
      "outputs": []
    },
    {
      "cell_type": "code",
      "metadata": {
        "id": "mPpE84wcMRBq"
      },
      "source": [
        "def load_data():\r\n",
        "    (x_train, y_train), (x_test, y_test) = mnist.load_data()\r\n",
        "    number = 10000\r\n",
        "    x_train = x_train[0:number]\r\n",
        "    y_train = y_train[0:number]\r\n",
        "    x_train = x_train.reshape(number, 28*28)\r\n",
        "    x_test = x_test.reshape(x_test.shape[0], 28*28)\r\n",
        "    x_train = x_train.astype('float32')\r\n",
        "    x_test = x_test.astype('float32')\r\n",
        "    \r\n",
        "    #convert class vectors to binary class matrices\r\n",
        "    y_train = np_utils.to_categorical(y_train, 10)\r\n",
        "    y_test = np_utils.to_categorical(y_test, 10)\r\n",
        "        \r\n",
        "    x_train = x_train / 255\r\n",
        "    x_test = x_test / 255\r\n",
        "    #add random noises to x_test\r\n",
        "    #x_test = np.random.normal(x_test)\r\n",
        "    return (x_train, y_train), (x_test, y_test)\r\n",
        "        \r\n",
        "(x_train, y_train), (x_test, y_test) = load_data()"
      ],
      "execution_count": 8,
      "outputs": []
    },
    {
      "cell_type": "code",
      "metadata": {
        "id": "nc_4whzQXomd"
      },
      "source": [
        "x_train = x_train.reshape(-1,28,28,1)\r\n",
        "x_test = x_test.reshape(-1,28,28,1)"
      ],
      "execution_count": 14,
      "outputs": []
    },
    {
      "cell_type": "code",
      "metadata": {
        "id": "1lTiO9TqSj0K"
      },
      "source": [
        "model = Sequential()\r\n",
        "model.add(Conv2D(filters=25, kernel_size=(3,3), input_shape=(28,28,1)))\r\n",
        "model.add(MaxPooling2D((2,2)))\r\n",
        "\r\n",
        "model.add(Conv2D(filters=50, kernel_size=(3,3)))\r\n",
        "model.add(MaxPooling2D((2,2)))\r\n",
        "\r\n",
        "model.add(Flatten())\r\n",
        "model.add(Dense(units=100, activation='relu'))\r\n",
        "model.add(Dense(units=10, activation='softmax'))"
      ],
      "execution_count": 16,
      "outputs": []
    },
    {
      "cell_type": "code",
      "metadata": {
        "colab": {
          "base_uri": "https://localhost:8080/"
        },
        "id": "GqPkE63VViJb",
        "outputId": "16ddfc7a-5364-4ded-cf75-feb1bddd716c"
      },
      "source": [
        "model.compile(loss='categorical_crossentropy', optimizer='adam', metrics=['accuracy'])\r\n",
        "model.fit(x_train, y_train, batch_size=100, epochs=20)\r\n",
        "\r\n",
        "score = model.evaluate(x_train, y_train)\r\n",
        "print('Accuracy of Training Set: ', score[1])\r\n",
        "\r\n",
        "score = model.evaluate(x_test, y_test)\r\n",
        "print('Accuracy of Testing Set: ', score[1])"
      ],
      "execution_count": 17,
      "outputs": [
        {
          "output_type": "stream",
          "text": [
            "Epoch 1/20\n",
            "100/100 [==============================] - 6s 57ms/step - loss: 1.0160 - accuracy: 0.7165\n",
            "Epoch 2/20\n",
            "100/100 [==============================] - 6s 57ms/step - loss: 0.2235 - accuracy: 0.9364\n",
            "Epoch 3/20\n",
            "100/100 [==============================] - 6s 58ms/step - loss: 0.1187 - accuracy: 0.9654\n",
            "Epoch 4/20\n",
            "100/100 [==============================] - 6s 58ms/step - loss: 0.0751 - accuracy: 0.9783\n",
            "Epoch 5/20\n",
            "100/100 [==============================] - 6s 57ms/step - loss: 0.0574 - accuracy: 0.9825\n",
            "Epoch 6/20\n",
            "100/100 [==============================] - 6s 58ms/step - loss: 0.0361 - accuracy: 0.9899\n",
            "Epoch 7/20\n",
            "100/100 [==============================] - 6s 58ms/step - loss: 0.0348 - accuracy: 0.9893\n",
            "Epoch 8/20\n",
            "100/100 [==============================] - 6s 57ms/step - loss: 0.0213 - accuracy: 0.9947\n",
            "Epoch 9/20\n",
            "100/100 [==============================] - 6s 58ms/step - loss: 0.0153 - accuracy: 0.9961\n",
            "Epoch 10/20\n",
            "100/100 [==============================] - 6s 57ms/step - loss: 0.0103 - accuracy: 0.9968\n",
            "Epoch 11/20\n",
            "100/100 [==============================] - 6s 57ms/step - loss: 0.0094 - accuracy: 0.9986\n",
            "Epoch 12/20\n",
            "100/100 [==============================] - 6s 57ms/step - loss: 0.0076 - accuracy: 0.9978\n",
            "Epoch 13/20\n",
            "100/100 [==============================] - 6s 56ms/step - loss: 0.0045 - accuracy: 0.9987\n",
            "Epoch 14/20\n",
            "100/100 [==============================] - 6s 57ms/step - loss: 0.0062 - accuracy: 0.9986\n",
            "Epoch 15/20\n",
            "100/100 [==============================] - 6s 56ms/step - loss: 0.0080 - accuracy: 0.9976\n",
            "Epoch 16/20\n",
            "100/100 [==============================] - 6s 57ms/step - loss: 0.0052 - accuracy: 0.9988\n",
            "Epoch 17/20\n",
            "100/100 [==============================] - 6s 56ms/step - loss: 0.0050 - accuracy: 0.9984\n",
            "Epoch 18/20\n",
            "100/100 [==============================] - 6s 56ms/step - loss: 0.0046 - accuracy: 0.9990\n",
            "Epoch 19/20\n",
            "100/100 [==============================] - 6s 57ms/step - loss: 7.2185e-04 - accuracy: 1.0000\n",
            "Epoch 20/20\n",
            "100/100 [==============================] - 6s 56ms/step - loss: 3.4135e-04 - accuracy: 1.0000\n",
            "313/313 [==============================] - 3s 8ms/step - loss: 2.9778e-04 - accuracy: 1.0000\n",
            "Accuracy of Training Set:  1.0\n",
            "313/313 [==============================] - 2s 8ms/step - loss: 0.0813 - accuracy: 0.9807\n",
            "Accuracy of Testing Set:  0.9807000160217285\n"
          ],
          "name": "stdout"
        }
      ]
    }
  ]
}